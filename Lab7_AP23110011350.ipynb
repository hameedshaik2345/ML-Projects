{
  "nbformat": 4,
  "nbformat_minor": 0,
  "metadata": {
    "colab": {
      "provenance": []
    },
    "kernelspec": {
      "name": "python3",
      "display_name": "Python 3"
    },
    "language_info": {
      "name": "python"
    }
  },
  "cells": [
    {
      "cell_type": "markdown",
      "source": [
        "**1) Import Necessay Libraries**"
      ],
      "metadata": {
        "id": "Us64IRMvGCMj"
      }
    },
    {
      "cell_type": "code",
      "source": [
        "import pandas as pd\n",
        "import numpy as np\n",
        "from sklearn.model_selection import train_test_split\n",
        "from sklearn.preprocessing import LabelEncoder\n",
        "from sklearn.model_selection import train_test_split\n",
        "from sklearn.preprocessing import StandardScaler"
      ],
      "metadata": {
        "id": "pUgZ9NuZGN4u"
      },
      "execution_count": 8,
      "outputs": []
    },
    {
      "cell_type": "markdown",
      "source": [
        "**2) Load the Dataset**"
      ],
      "metadata": {
        "id": "h9UyLNqDGFVl"
      }
    },
    {
      "cell_type": "code",
      "source": [
        "# Download the dataset from Google Drive\n",
        "!gdown 1ZdhRqYv-JizWV6DxO6C4R_k1kxPhmlF2 -O groceries.csv\n",
        "\n",
        "df = pd.read_csv(\"groceries.csv\")\n",
        "print(\"Dataset Shape: \")\n",
        "print(df.shape)\n",
        "\n",
        "print(\"First few rows of the dataset:\")\n",
        "print(df.head())\n",
        "\n",
        "print(\"\\nDataset Info:\")\n",
        "print(df.info())\n",
        "\n"
      ],
      "metadata": {
        "colab": {
          "base_uri": "https://localhost:8080/"
        },
        "id": "bmg7pLhoGoQV",
        "outputId": "94d7cf7e-2bf3-44b0-a4a9-15ea0221b395"
      },
      "execution_count": 9,
      "outputs": [
        {
          "output_type": "stream",
          "name": "stdout",
          "text": [
            "Downloading...\n",
            "From: https://drive.google.com/uc?id=1ZdhRqYv-JizWV6DxO6C4R_k1kxPhmlF2\n",
            "To: /content/groceries.csv\n",
            "\r  0% 0.00/14.6k [00:00<?, ?B/s]\r100% 14.6k/14.6k [00:00<00:00, 28.3MB/s]\n",
            "Dataset Shape: \n",
            "(440, 8)\n",
            "First few rows of the dataset:\n",
            "   Region  Fresh  Milk  Grocery  Frozen  Detergents_Paper  Delicassen  class\n",
            "0       3  12669  9656     7561     214              2674        1338      2\n",
            "1       3   7057  9810     9568    1762              3293        1776      2\n",
            "2       3   6353  8808     7684    2405              3516        7844      2\n",
            "3       3  13265  1196     4221    6404               507        1788      1\n",
            "4       3  22615  5410     7198    3915              1777        5185      1\n",
            "\n",
            "Dataset Info:\n",
            "<class 'pandas.core.frame.DataFrame'>\n",
            "RangeIndex: 440 entries, 0 to 439\n",
            "Data columns (total 8 columns):\n",
            " #   Column            Non-Null Count  Dtype\n",
            "---  ------            --------------  -----\n",
            " 0   Region            440 non-null    int64\n",
            " 1   Fresh             440 non-null    int64\n",
            " 2   Milk              440 non-null    int64\n",
            " 3   Grocery           440 non-null    int64\n",
            " 4   Frozen            440 non-null    int64\n",
            " 5   Detergents_Paper  440 non-null    int64\n",
            " 6   Delicassen        440 non-null    int64\n",
            " 7   class             440 non-null    int64\n",
            "dtypes: int64(8)\n",
            "memory usage: 27.6 KB\n",
            "None\n"
          ]
        }
      ]
    },
    {
      "cell_type": "markdown",
      "source": [
        "**3) Basic Preprocessing**"
      ],
      "metadata": {
        "id": "nxOPYsNzHUWo"
      }
    },
    {
      "cell_type": "code",
      "source": [
        "print(\"\\nMissing values in dataset:\")\n",
        "print(df.isnull().sum())"
      ],
      "metadata": {
        "colab": {
          "base_uri": "https://localhost:8080/"
        },
        "id": "9J_pmB4ZHfFZ",
        "outputId": "c869ff59-7dc9-44db-c5c4-e1b405014bea"
      },
      "execution_count": 10,
      "outputs": [
        {
          "output_type": "stream",
          "name": "stdout",
          "text": [
            "\n",
            "Missing values in dataset:\n",
            "Region              0\n",
            "Fresh               0\n",
            "Milk                0\n",
            "Grocery             0\n",
            "Frozen              0\n",
            "Detergents_Paper    0\n",
            "Delicassen          0\n",
            "class               0\n",
            "dtype: int64\n"
          ]
        }
      ]
    },
    {
      "cell_type": "code",
      "source": [
        "\n",
        "\n",
        "# Separate features and target\n",
        "X = df.drop(\"class\", axis=1)\n",
        "y = df[\"class\"]\n",
        "\n",
        "# Check class distribution (imbalance check)\n",
        "print(\"Class distribution:\\n\", y.value_counts(normalize=True), \"\\n\")\n",
        "\n",
        "# Feature scaling (important for KNN)\n",
        "scaler = StandardScaler()\n",
        "X_scaled = scaler.fit_transform(X)\n",
        "\n",
        "# Train-test split\n",
        "X_train, X_test, y_train, y_test = train_test_split(\n",
        "    X_scaled, y, test_size=0.2, random_state=42, stratify=y\n",
        ")\n",
        "\n",
        "# Convert scaled arrays back to DataFrame (for display/saving)\n",
        "X_train_df = pd.DataFrame(X_train, columns=X.columns)\n",
        "X_test_df = pd.DataFrame(X_test, columns=X.columns)\n",
        "\n",
        "print(\"Sample preprocessed training data:\\n\", X_train_df.head(), \"\\n\")\n",
        "print(\"y_train sample:\\n\", y_train.head(), \"\\n\")\n",
        "\n",
        "# Save processed data (optional)\n",
        "train_processed = X_train_df.copy()\n",
        "train_processed[\"class\"] = y_train.values\n",
        "test_processed = X_test_df.copy()\n",
        "test_processed[\"class\"] = y_test.values\n",
        "\n",
        "train_processed.to_csv(\"groceries_train_processed.csv\", index=False)\n",
        "test_processed.to_csv(\"groceries_test_processed.csv\", index=False)"
      ],
      "metadata": {
        "colab": {
          "base_uri": "https://localhost:8080/"
        },
        "id": "D0Ujh__TJMVW",
        "outputId": "4b62949c-fad8-4d00-fe12-e7051b78d577"
      },
      "execution_count": 19,
      "outputs": [
        {
          "output_type": "stream",
          "name": "stdout",
          "text": [
            "Class distribution:\n",
            " class\n",
            "2    0.409091\n",
            "3    0.393182\n",
            "1    0.197727\n",
            "Name: proportion, dtype: float64 \n",
            "\n",
            "Sample preprocessed training data:\n",
            "      Region     Fresh      Milk   Grocery    Frozen  Detergents_Paper  \\\n",
            "0  0.590668 -0.942242 -0.297242  0.468664 -0.613289          0.018584   \n",
            "1  0.590668 -0.625531  3.268554  1.992626 -0.094023          3.119940   \n",
            "2  0.590668 -0.232669 -0.673803 -0.765698  2.855564         -0.474651   \n",
            "3 -0.702337 -0.937176  0.225683  1.772133 -0.506260          1.869109   \n",
            "4 -1.995342 -0.687353  0.109297 -0.114858 -0.359430          0.226671   \n",
            "\n",
            "   Delicassen  \n",
            "0   -0.519319  \n",
            "1   -0.065629  \n",
            "2   -0.491984  \n",
            "3    0.314221  \n",
            "4   -0.110004   \n",
            "\n",
            "y_train sample:\n",
            " 412    2\n",
            "56     2\n",
            "277    3\n",
            "304    2\n",
            "213    3\n",
            "Name: class, dtype: int64 \n",
            "\n"
          ]
        }
      ]
    },
    {
      "cell_type": "markdown",
      "source": [
        "**4) KNN Scratch Implementation**"
      ],
      "metadata": {
        "id": "5rAQgFWmLJEr"
      }
    },
    {
      "cell_type": "code",
      "source": [
        "from collections import Counter\n",
        "\n",
        "# Euclidean distance function\n",
        "def euclidean_distance(x1, x2):\n",
        "    return np.sqrt(np.sum((x1 - x2) ** 2))\n",
        "\n",
        "# KNN from scratch\n",
        "class KNN_Scratch:\n",
        "    def __init__(self, k=5):\n",
        "        self.k = k\n",
        "\n",
        "    def fit(self, X, y):\n",
        "        self.X_train = np.array(X)\n",
        "        self.y_train = np.array(y)\n",
        "\n",
        "    def predict(self, X):\n",
        "        return np.array([self._predict(x) for x in X])\n",
        "\n",
        "    def _predict(self, x):\n",
        "        # Compute distances to all training samples\n",
        "        distances = [euclidean_distance(x, x_train) for x_train in self.X_train]\n",
        "        # Get indices of k nearest neighbors\n",
        "        k_indices = np.argsort(distances)[:self.k]\n",
        "        k_nearest_labels = [self.y_train[i] for i in k_indices]\n",
        "        # Majority vote\n",
        "        most_common = Counter(k_nearest_labels).most_common(1)\n",
        "        return most_common[0][0]\n",
        "\n",
        "# Train & Test Scratch KNN\n",
        "knn_scratch = KNN_Scratch(k=5)\n",
        "knn_scratch.fit(X_train, y_train)\n",
        "y_pred_scratch = knn_scratch.predict(X_test)\n",
        "\n",
        "# Accuracy\n",
        "scratch_acc = np.mean(y_pred_scratch == y_test)\n",
        "print(\"Scratch KNN Accuracy:\", scratch_acc)"
      ],
      "metadata": {
        "colab": {
          "base_uri": "https://localhost:8080/"
        },
        "id": "70CUoojxLUuW",
        "outputId": "b73bfba6-3aef-456a-ca54-ba36376873af"
      },
      "execution_count": 20,
      "outputs": [
        {
          "output_type": "stream",
          "name": "stdout",
          "text": [
            "Scratch KNN Accuracy: 0.9545454545454546\n"
          ]
        }
      ]
    },
    {
      "cell_type": "markdown",
      "source": [
        "**5) KNN with Scikit-learn**"
      ],
      "metadata": {
        "id": "1n98GIhxOBzW"
      }
    },
    {
      "cell_type": "code",
      "source": [
        "# --- Step 3: KNN with Scikit-learn ---\n",
        "from sklearn.neighbors import KNeighborsClassifier\n",
        "from sklearn.metrics import accuracy_score\n",
        "\n",
        "knn = KNeighborsClassifier(n_neighbors=5)\n",
        "knn.fit(X_train, y_train)\n",
        "\n",
        "sk_preds = knn.predict(X_test)\n",
        "\n",
        "sk_acc = accuracy_score(y_test, sk_preds)\n",
        "print(f\"KNN (Sklearn) Accuracy: {sk_acc}\")\n"
      ],
      "metadata": {
        "colab": {
          "base_uri": "https://localhost:8080/"
        },
        "id": "xq8zA_KrN9Az",
        "outputId": "124f01db-75ca-48d1-d93b-a1edece9aee2"
      },
      "execution_count": 22,
      "outputs": [
        {
          "output_type": "stream",
          "name": "stdout",
          "text": [
            "KNN (Sklearn) Accuracy: 0.9545454545454546\n"
          ]
        }
      ]
    }
  ]
}